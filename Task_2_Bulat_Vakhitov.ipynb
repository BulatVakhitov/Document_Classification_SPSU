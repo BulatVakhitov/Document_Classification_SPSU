{
  "cells": [
    {
      "cell_type": "code",
      "execution_count": 1,
      "metadata": {
        "id": "1dhuMVTnU72O"
      },
      "outputs": [],
      "source": [
        "import numpy as np\n",
        "import scipy as sp\n",
        "import matplotlib.pyplot as plt\n",
        "import seaborn as sns\n",
        "\n",
        "%matplotlib inline"
      ]
    },
    {
      "cell_type": "markdown",
      "metadata": {
        "id": "1ChsNsYwU72T"
      },
      "source": [
        "# 2. Работа с массивами NumPy"
      ]
    },
    {
      "cell_type": "markdown",
      "metadata": {
        "id": "RRHjspbhU72W"
      },
      "source": [
        "**N. Все упражнения ниже нужно делать без использования циклов Python**\n",
        "\n",
        "**2.1.** Cоздать вектор\n",
        "\n",
        "$$(2, \\frac{2^2}{2}, \\ldots, \\frac{2^{20}}{20})$$\n",
        "\n",
        "Можно использовать функции [np.arange()](http://docs.scipy.org/doc/numpy/reference/generated/numpy.arange.html), [np.ones()](http://docs.scipy.org/doc/numpy/reference/generated/numpy.ones.html)"
      ]
    },
    {
      "cell_type": "code",
      "execution_count": 2,
      "metadata": {
        "colab": {
          "base_uri": "https://localhost:8080/"
        },
        "id": "7kmLTc5RU72X",
        "outputId": "3b25a9ae-9edc-40b3-b5ca-9a48b057fcd8"
      },
      "outputs": [
        {
          "output_type": "execute_result",
          "data": {
            "text/plain": [
              "array([2.00000000e+00, 2.00000000e+00, 2.66666667e+00, 4.00000000e+00,\n",
              "       6.40000000e+00, 1.06666667e+01, 1.82857143e+01, 3.20000000e+01,\n",
              "       5.68888889e+01, 1.02400000e+02, 1.86181818e+02, 3.41333333e+02,\n",
              "       6.30153846e+02, 1.17028571e+03, 2.18453333e+03, 4.09600000e+03,\n",
              "       7.71011765e+03, 1.45635556e+04, 2.75941053e+04, 5.24288000e+04])"
            ]
          },
          "metadata": {},
          "execution_count": 2
        }
      ],
      "source": [
        "2**np.arange(1, 21) / np.arange(1, 21)"
      ]
    },
    {
      "cell_type": "markdown",
      "metadata": {
        "id": "4Yu9s0qhU72Y"
      },
      "source": [
        "**2.2.** Посчитать:\n",
        "\n",
        "$$\\sum\\limits_{i=0}^{5}{0.1^{3i}0.2^{4i}}$$\n"
      ]
    },
    {
      "cell_type": "code",
      "execution_count": 3,
      "metadata": {
        "colab": {
          "base_uri": "https://localhost:8080/"
        },
        "id": "Ujj4VPbXU72Z",
        "outputId": "fcd56c49-dd85-4012-df9e-d21bed49ed61"
      },
      "outputs": [
        {
          "output_type": "execute_result",
          "data": {
            "text/plain": [
              "1.00000160000256"
            ]
          },
          "metadata": {},
          "execution_count": 3
        }
      ],
      "source": [
        "np.sum(0.1 ** (3 * np.arange(0, 6)) * 0.2 ** (4 * np.arange(0, 6)))"
      ]
    },
    {
      "cell_type": "markdown",
      "metadata": {
        "id": "Q4p8TgP7U72Z"
      },
      "source": [
        "**2.3.** Создать нулевую матрицe $8 \\times 8$, и заполнить её единицами в шахматном порядке."
      ]
    },
    {
      "cell_type": "code",
      "execution_count": 4,
      "metadata": {
        "colab": {
          "base_uri": "https://localhost:8080/"
        },
        "id": "0k1x9PUGU72a",
        "outputId": "18e43231-7e2d-4c5e-e0b6-7538d3414913"
      },
      "outputs": [
        {
          "output_type": "stream",
          "name": "stdout",
          "text": [
            "[[0. 1. 0. 1. 0. 1. 0. 1.]\n",
            " [1. 0. 1. 0. 1. 0. 1. 0.]\n",
            " [0. 1. 0. 1. 0. 1. 0. 1.]\n",
            " [1. 0. 1. 0. 1. 0. 1. 0.]\n",
            " [0. 1. 0. 1. 0. 1. 0. 1.]\n",
            " [1. 0. 1. 0. 1. 0. 1. 0.]\n",
            " [0. 1. 0. 1. 0. 1. 0. 1.]\n",
            " [1. 0. 1. 0. 1. 0. 1. 0.]]\n"
          ]
        }
      ],
      "source": [
        "a = np.zeros((8, 8))\n",
        "\n",
        "a[::2, 1::2] = 1\n",
        "a[1::2, ::2] = 1\n",
        "print(a)"
      ]
    },
    {
      "cell_type": "markdown",
      "metadata": {
        "id": "1hTlAuakU72b"
      },
      "source": [
        "**2.4.** Есть 5 точек в декартовой системе координат (в виде матрицы $X$ размерностью $5 \\times 2$), сконвертируйте эти точки в полярную систему координат."
      ]
    },
    {
      "cell_type": "code",
      "execution_count": 5,
      "metadata": {
        "colab": {
          "base_uri": "https://localhost:8080/"
        },
        "id": "rzDzhp-vU72b",
        "outputId": "465a45f0-0ce6-48ec-db01-37eb4836a770"
      },
      "outputs": [
        {
          "output_type": "stream",
          "name": "stdout",
          "text": [
            "[[0.97785066 0.79798426]\n",
            " [0.70281201 0.03397616]\n",
            " [0.85045024 0.27988914]\n",
            " [0.98046135 0.22666163]\n",
            " [0.97358055 0.72651632]]\n"
          ]
        },
        {
          "output_type": "execute_result",
          "data": {
            "text/plain": [
              "array([1.26212947, 0.70363279, 0.89532314, 1.00632   , 1.21477778,\n",
              "       0.68445686, 0.04830556, 0.31794206, 0.22718743, 0.6410848 ])"
            ]
          },
          "metadata": {},
          "execution_count": 5
        }
      ],
      "source": [
        "X = np.random.random((5, 2))\n",
        "print(X)\n",
        "\n",
        "X_radius = np.sqrt(X[:, 0]**2 + X[:, 1]**2)\n",
        "X_angle = np.arccos(X[:, 0] / X_radius)\n",
        "\n",
        "X_polar = np.concatenate((X_radius.T, X_angle.T), axis=0)\n",
        "X_polar"
      ]
    },
    {
      "cell_type": "markdown",
      "metadata": {
        "id": "sRfI6067U72c"
      },
      "source": [
        "**2.5.** Найдите индексы максимального элемента в случайной матрице $10 \\times 10$.\n",
        "\n",
        "Cм. [np.argmax()](http://docs.scipy.org/doc/numpy/reference/generated/numpy.argmax.html)."
      ]
    },
    {
      "cell_type": "code",
      "execution_count": 6,
      "metadata": {
        "colab": {
          "base_uri": "https://localhost:8080/"
        },
        "id": "s9F1rlRyU72c",
        "outputId": "95252204-1ef3-4d49-a340-f8c9f95c1e62"
      },
      "outputs": [
        {
          "output_type": "stream",
          "name": "stdout",
          "text": [
            "[[0.91152071 0.51697211 0.49199587 0.89433597 0.8019388  0.63960914\n",
            "  0.10691531 0.29668579 0.83221374 0.59936073]\n",
            " [0.07631439 0.251492   0.89630663 0.92884967 0.14563376 0.93505981\n",
            "  0.54952638 0.76666993 0.3147299  0.92838871]\n",
            " [0.09642966 0.92566043 0.4022249  0.3601823  0.88302112 0.71213568\n",
            "  0.6919131  0.62828917 0.99069026 0.21867917]\n",
            " [0.93839931 0.11945447 0.24684913 0.24427675 0.63942141 0.17580601\n",
            "  0.84220425 0.04396784 0.98503824 0.09608568]\n",
            " [0.41759371 0.26414994 0.7529564  0.45790818 0.5784893  0.42845843\n",
            "  0.86117271 0.81483958 0.69082822 0.31397185]\n",
            " [0.85293808 0.92920739 0.42419122 0.43533712 0.97657231 0.2485359\n",
            "  0.75500276 0.03121509 0.13048299 0.01813153]\n",
            " [0.67295517 0.10593691 0.47924761 0.55091735 0.38875007 0.68818584\n",
            "  0.15991547 0.37491041 0.90474764 0.25719323]\n",
            " [0.19071809 0.84771034 0.39878786 0.43819833 0.97167364 0.19810667\n",
            "  0.76024403 0.35788255 0.81278976 0.39279957]\n",
            " [0.61694645 0.42398416 0.75031884 0.93536143 0.3315114  0.11323528\n",
            "  0.72202135 0.51688761 0.87936701 0.59886242]\n",
            " [0.6181294  0.25987644 0.44688197 0.70628865 0.6739584  0.23739164\n",
            "  0.12537923 0.71432623 0.42700928 0.90143614]]\n",
            "Max Value index: (2, 8), and max value: 0.9906902629301099\n"
          ]
        }
      ],
      "source": [
        "X = np.random.random((10, 10))\n",
        "print(X)\n",
        "\n",
        "index = np.unravel_index(np.argmax(X, axis=None), X.shape)\n",
        "print('Max Value index: {index}, and max value: {value}'.format(index=index, value=X[index]))"
      ]
    },
    {
      "cell_type": "markdown",
      "metadata": {
        "id": "jThx3RPuU72c"
      },
      "source": [
        "**2.6.** Есть 10 точек ($X$) и ещё одна ($y$). Найти в $X$ ближайшую к $y$ точку."
      ]
    },
    {
      "cell_type": "code",
      "execution_count": 7,
      "metadata": {
        "colab": {
          "base_uri": "https://localhost:8080/"
        },
        "id": "RIxbSAexU72d",
        "outputId": "875e663e-ee1e-4ace-f9fc-1e43e9b98ad1"
      },
      "outputs": [
        {
          "output_type": "stream",
          "name": "stdout",
          "text": [
            "[[0.15763938 0.20961096]\n",
            " [0.25837569 0.71037102]\n",
            " [0.88949466 0.3738775 ]\n",
            " [0.28721722 0.80547614]\n",
            " [0.94812673 0.63192208]\n",
            " [0.32912348 0.83235615]\n",
            " [0.0464926  0.06268564]\n",
            " [0.55194864 0.10221541]\n",
            " [0.6488241  0.23581986]\n",
            " [0.07880925 0.27559077]] [[0.84109192 0.25375909]]\n",
            "Closest point: [0.88949466 0.3738775 ]\n"
          ]
        }
      ],
      "source": [
        "X = np.random.random((10, 2))\n",
        "y = np.random.random((1, 2))\n",
        "\n",
        "print(X, y)\n",
        "\n",
        "distances = np.sqrt(np.sum((X - y)**2, axis=1))\n",
        "index = np.argmin(distances)\n",
        "\n",
        "print('Closest point: {}'.format(X[index]))"
      ]
    },
    {
      "cell_type": "markdown",
      "metadata": {
        "id": "l5Ln9UXjU72d"
      },
      "source": [
        "**2.7.** Дана функция:\n",
        "\n",
        "$$\n",
        " \\begin{cases}\n",
        "    x^2 + 2x + 6, & x < 0  \\\\\n",
        "    x + 6, & 0 \\le x \\le 2 \\\\\n",
        "    x^2 + 4x - 4, & x \\ge 2\n",
        " \\end{cases}\n",
        "$$\n",
        "\n",
        "Постройте массив из её значений на  $-3 \\le x \\le 3$."
      ]
    },
    {
      "cell_type": "code",
      "execution_count": null,
      "metadata": {
        "id": "JhnPm8sYU72d"
      },
      "outputs": [],
      "source": [
        "## your code"
      ]
    },
    {
      "cell_type": "markdown",
      "metadata": {
        "id": "55OmksOnU72d"
      },
      "source": [
        "**2.8.** Из каждого элемента матрицы вычесть среднее арифметическое от всех элементов в соответствующей строке (после чего среднее значение каждой строки должно равняться нулю).\n",
        "\n",
        "Cм. [np.mean()](http://docs.scipy.org/doc/numpy/reference/generated/numpy.mean.html)."
      ]
    },
    {
      "cell_type": "code",
      "execution_count": 8,
      "metadata": {
        "colab": {
          "base_uri": "https://localhost:8080/"
        },
        "id": "-Da5GhoVU72e",
        "outputId": "45f3e504-d214-4ac2-ba28-a2d1c9c85577"
      },
      "outputs": [
        {
          "output_type": "execute_result",
          "data": {
            "text/plain": [
              "array([[ 0.24677144, -0.06874894, -0.40714397, -0.18339073, -0.32653131,\n",
              "         0.40428816,  0.21422167,  0.21612906,  0.01235485, -0.10795023],\n",
              "       [ 0.52734629,  0.42442207, -0.3361017 , -0.1985765 , -0.05563878,\n",
              "        -0.14232064, -0.20596312, -0.08232317,  0.21198961, -0.14283406],\n",
              "       [-0.15693053, -0.16072041,  0.04651101,  0.07208634,  0.35668571,\n",
              "        -0.39675985, -0.09855627,  0.22318591, -0.11050763,  0.22500573],\n",
              "       [-0.31796563,  0.03415755, -0.22674266,  0.19285535,  0.33557262,\n",
              "         0.32464831, -0.37450828,  0.21047349, -0.40445447,  0.22596372],\n",
              "       [ 0.07146784,  0.01845108,  0.12420517, -0.17816407, -0.00356039,\n",
              "        -0.16331455,  0.09532102,  0.27258004, -0.01615368, -0.22083245],\n",
              "       [ 0.4542912 , -0.04878286,  0.11736859,  0.229352  ,  0.37581202,\n",
              "        -0.38589443, -0.22954904, -0.11683955, -0.38153882, -0.0142191 ],\n",
              "       [ 0.43050009, -0.02820811, -0.40486027,  0.32663729,  0.22999589,\n",
              "         0.16699159, -0.05339817,  0.13012225, -0.46944139, -0.32833917],\n",
              "       [-0.08310653,  0.01811162, -0.43799553,  0.48401868, -0.22403639,\n",
              "        -0.00070131, -0.39205247,  0.365307  ,  0.10475887,  0.16569605],\n",
              "       [ 0.35840447, -0.24442974, -0.32660745, -0.01246695,  0.44286624,\n",
              "         0.28069999,  0.03193563,  0.07247767, -0.28530041, -0.31757945],\n",
              "       [-0.26983653, -0.11961837, -0.06868108,  0.23467116,  0.25836683,\n",
              "        -0.28297763, -0.22002083,  0.09914566, -0.08299238,  0.45194317]])"
            ]
          },
          "metadata": {},
          "execution_count": 8
        }
      ],
      "source": [
        "X = np.random.random((10, 10))\n",
        "\n",
        "means = np.mean(X, axis=1)\n",
        "X - means[:, np.newaxis]"
      ]
    },
    {
      "cell_type": "markdown",
      "metadata": {
        "id": "poT29-bXU72e"
      },
      "source": [
        "**2.9.** Есть массив из 1000 чисел, полученных из генератора случайных чисел, имеющий нормальное распределение. Посчитайте выборочное среднее и выборочную дисперсию. "
      ]
    },
    {
      "cell_type": "code",
      "execution_count": 9,
      "metadata": {
        "colab": {
          "base_uri": "https://localhost:8080/"
        },
        "id": "LTs1NOp-U72e",
        "outputId": "d7520aba-ec1d-4450-bc67-c3e5b698f23f"
      },
      "outputs": [
        {
          "output_type": "stream",
          "name": "stdout",
          "text": [
            "Mean: 5.1062464820667826, Variance: 3.851162931051549\n"
          ]
        }
      ],
      "source": [
        "X = np.random.normal(loc=5, scale=2., size=1000)\n",
        "\n",
        "mean = X.mean()\n",
        "var = X.var()\n",
        "\n",
        "print('Mean: {mean}, Variance: {var}'.format(mean=mean, var=var))"
      ]
    },
    {
      "cell_type": "markdown",
      "metadata": {
        "id": "Qg1qnAAcU72f"
      },
      "source": [
        "**2.10.** Создать матрицу (NB. БЕЗ ЦИКЛОВ И ИЗМЕНЕНИЯ ОТДЕЛЬНЫХ ЭЛЕМЕНТОВ):\n",
        "\n",
        "$$\n",
        "\\begin{pmatrix}\n",
        "0 & 1 & 2 & 3 & 4 \\\\\n",
        "1 & 2 & 3 & 4 & 0 \\\\\n",
        "2 & 3 & 4 & 0 & 1 \\\\\n",
        "3 & 4 & 0 & 1 & 2 \\\\\n",
        "4 & 0 & 1 & 2 & 3\n",
        "\\end{pmatrix}\n",
        "$$"
      ]
    },
    {
      "cell_type": "code",
      "source": [
        "np.roll(np.arange(5).T, 2)"
      ],
      "metadata": {
        "colab": {
          "base_uri": "https://localhost:8080/"
        },
        "id": "_DMgcpsw3po-",
        "outputId": "45cbe794-7a94-46ae-f238-0c08bc74d2c2"
      },
      "execution_count": 10,
      "outputs": [
        {
          "output_type": "execute_result",
          "data": {
            "text/plain": [
              "array([3, 4, 0, 1, 2])"
            ]
          },
          "metadata": {},
          "execution_count": 10
        }
      ]
    },
    {
      "cell_type": "code",
      "execution_count": 11,
      "metadata": {
        "colab": {
          "base_uri": "https://localhost:8080/"
        },
        "id": "gM58MFQ3U72f",
        "outputId": "1f65ed78-c30b-4d13-f7f7-f25b11533214"
      },
      "outputs": [
        {
          "output_type": "execute_result",
          "data": {
            "text/plain": [
              "array([[0, 1, 2, 3, 4],\n",
              "       [1, 2, 3, 4, 0],\n",
              "       [2, 3, 4, 0, 1],\n",
              "       [3, 4, 0, 1, 2],\n",
              "       [4, 0, 1, 2, 3]])"
            ]
          },
          "metadata": {},
          "execution_count": 11
        }
      ],
      "source": [
        "np.concatenate((np.roll(np.arange(5)[:, np.newaxis], 0).T, \n",
        "                np.roll(np.arange(5)[:, np.newaxis], -1).T,\n",
        "                np.roll(np.arange(5)[:, np.newaxis], -2).T,\n",
        "                np.roll(np.arange(5)[:, np.newaxis], -3).T,\n",
        "                np.roll(np.arange(5)[:, np.newaxis], -4).T), axis=0)"
      ]
    },
    {
      "cell_type": "markdown",
      "metadata": {
        "id": "ZhDwPSjYU72f"
      },
      "source": [
        "**2.11.** Есть следующий алгоритм семплинирования, на вход функции подается вектор из целых положительных чисел и число семплов."
      ]
    },
    {
      "cell_type": "code",
      "execution_count": 15,
      "metadata": {
        "colab": {
          "base_uri": "https://localhost:8080/"
        },
        "id": "HBgfj24fU72f",
        "outputId": "d868ab9c-87e2-42a6-d7ec-784f30ed62d0"
      },
      "outputs": [
        {
          "output_type": "execute_result",
          "data": {
            "text/plain": [
              "[0, 1, 2, 4, 0]"
            ]
          },
          "metadata": {},
          "execution_count": 15
        }
      ],
      "source": [
        "def sample(x, c):\n",
        "    assert len(x) > 0\n",
        "    \n",
        "    s = np.sum(x)\n",
        "    res = []\n",
        "    for _ in range(c):\n",
        "        val = s * np.random.random()\n",
        "        cur, idx = 0, 0        \n",
        "        while cur + x[idx] <= val:\n",
        "            cur += x[idx]\n",
        "            idx += 1\n",
        "            \n",
        "        res.append(idx)\n",
        "    return res\n",
        "\n",
        "            \n",
        "sample([50, 3, 1, 7, 20], 5)    "
      ]
    },
    {
      "cell_type": "markdown",
      "metadata": {
        "id": "-RaL1dwAU72g"
      },
      "source": [
        "Реализуйте данный алгоритм более оптимальным способом, без использования циклов."
      ]
    },
    {
      "cell_type": "code",
      "execution_count": null,
      "metadata": {
        "id": "RLldq0WZU72g"
      },
      "outputs": [],
      "source": [
        "## your code"
      ]
    }
  ],
  "metadata": {
    "kernelspec": {
      "display_name": "Python 3.10.4 64-bit",
      "language": "python",
      "name": "python3"
    },
    "language_info": {
      "codemirror_mode": {
        "name": "ipython",
        "version": 3
      },
      "file_extension": ".py",
      "mimetype": "text/x-python",
      "name": "python",
      "nbconvert_exporter": "python",
      "pygments_lexer": "ipython3",
      "version": "3.10.4"
    },
    "vscode": {
      "interpreter": {
        "hash": "916dbcbb3f70747c44a77c7bcd40155683ae19c65e1c03b4aa3499c5328201f1"
      }
    },
    "colab": {
      "provenance": []
    }
  },
  "nbformat": 4,
  "nbformat_minor": 0
}