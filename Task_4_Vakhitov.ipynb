{
  "cells": [
    {
      "cell_type": "markdown",
      "metadata": {
        "id": "NzqmZVkhvyu-"
      },
      "source": [
        "# Задание 3. Линейная регрессия"
      ]
    },
    {
      "cell_type": "markdown",
      "metadata": {
        "id": "lun1i2FPvyvA"
      },
      "source": [
        "Данные содержатся в файле `data/lin_reg.txt`. Прочитать их можно следующим так:"
      ]
    },
    {
      "cell_type": "code",
      "source": [
        "import numpy as np\n",
        "import matplotlib.pyplot as plt\n",
        "import seaborn\n",
        "import pandas"
      ],
      "metadata": {
        "id": "3Y7wRNkkAZJ-"
      },
      "execution_count": 1,
      "outputs": []
    },
    {
      "cell_type": "code",
      "source": [
        "FILE_ID = '1kMfYaVq2cyXhGtCxPJPkvLWh1I-YhU2H'"
      ],
      "metadata": {
        "id": "ofbXudcwgGy7"
      },
      "execution_count": 2,
      "outputs": []
    },
    {
      "cell_type": "code",
      "source": [
        "!wget --no-check-certificate 'https://docs.google.com/uc?export=download&id=1kMfYaVq2cyXhGtCxPJPkvLWh1I-YhU2H' -O 'lin_reg.txt'"
      ],
      "metadata": {
        "colab": {
          "base_uri": "https://localhost:8080/"
        },
        "id": "76xjflAVfCBr",
        "outputId": "7ceeda23-7d74-488b-a91d-7cd51cf274e8"
      },
      "execution_count": 3,
      "outputs": [
        {
          "output_type": "stream",
          "name": "stdout",
          "text": [
            "--2023-01-09 10:33:01--  https://docs.google.com/uc?export=download&id=1kMfYaVq2cyXhGtCxPJPkvLWh1I-YhU2H\n",
            "Resolving docs.google.com (docs.google.com)... 172.253.62.139, 172.253.62.138, 172.253.62.102, ...\n",
            "Connecting to docs.google.com (docs.google.com)|172.253.62.139|:443... connected.\n",
            "HTTP request sent, awaiting response... 303 See Other\n",
            "Location: https://doc-08-7s-docs.googleusercontent.com/docs/securesc/ha0ro937gcuc7l7deffksulhg5h7mbp1/jd6pu858v6oq1tnb8uu50ah8otdliaph/1673260350000/16775244520241009086/*/1kMfYaVq2cyXhGtCxPJPkvLWh1I-YhU2H?e=download&uuid=ccc1f0ab-ce9b-486d-a548-d57abbf0762b [following]\n",
            "Warning: wildcards not supported in HTTP.\n",
            "--2023-01-09 10:33:01--  https://doc-08-7s-docs.googleusercontent.com/docs/securesc/ha0ro937gcuc7l7deffksulhg5h7mbp1/jd6pu858v6oq1tnb8uu50ah8otdliaph/1673260350000/16775244520241009086/*/1kMfYaVq2cyXhGtCxPJPkvLWh1I-YhU2H?e=download&uuid=ccc1f0ab-ce9b-486d-a548-d57abbf0762b\n",
            "Resolving doc-08-7s-docs.googleusercontent.com (doc-08-7s-docs.googleusercontent.com)... 172.253.122.132, 2607:f8b0:4004:c09::84\n",
            "Connecting to doc-08-7s-docs.googleusercontent.com (doc-08-7s-docs.googleusercontent.com)|172.253.122.132|:443... connected.\n",
            "HTTP request sent, awaiting response... 200 OK\n",
            "Length: 35980 (35K) [text/plain]\n",
            "Saving to: ‘lin_reg.txt’\n",
            "\n",
            "lin_reg.txt         100%[===================>]  35.14K  --.-KB/s    in 0s      \n",
            "\n",
            "2023-01-09 10:33:01 (109 MB/s) - ‘lin_reg.txt’ saved [35980/35980]\n",
            "\n"
          ]
        }
      ]
    },
    {
      "cell_type": "code",
      "execution_count": 4,
      "metadata": {
        "id": "EZTdXV0DvyvC"
      },
      "outputs": [],
      "source": [
        "D = np.loadtxt('/content/lin_reg.txt', delimiter=',')\n",
        "X_data = D[:, :-1]\n",
        "Y_data = D[:, -1]"
      ]
    },
    {
      "cell_type": "markdown",
      "metadata": {
        "id": "NLCiI79GvyvD"
      },
      "source": [
        "При выполнении заданий **нельзя** пользоваться `scikit-learn` и т.п., только `NumPy`/`JAX`/`TF`/`PyTorch` и `matplotlib`/`seaborn`/`plotly`/etc.\n",
        "\n",
        "1. Нарисуйте график среднеквадратичной ошибки в зависимости от параметра регуляризации $\\alpha$, используя полные данные для обучения и для тестирования. \n",
        "2. Подготовьте исходные данные для 5 fold CV.\n",
        "3. С помощью CV найдите оптимальное значение $\\alpha$ на какой-нибудь сетке значений.\n",
        "4. Постройте валидационную кривую. \n",
        "5. Постройте кривую обучения."
      ]
    },
    {
      "cell_type": "code",
      "execution_count": 5,
      "metadata": {
        "colab": {
          "base_uri": "https://localhost:8080/"
        },
        "id": "cvon4c-WvyvE",
        "outputId": "8ba26097-fb78-432c-faa0-3f151fc7bc0c"
      },
      "outputs": [
        {
          "output_type": "execute_result",
          "data": {
            "text/plain": [
              "array([[  9.31 , -17.043,  20.807,  11.109],\n",
              "       [ -6.446, -12.46 , -12.941, -14.715],\n",
              "       [ 14.324,  -9.624,  29.533,   1.439],\n",
              "       ...,\n",
              "       [  3.56 ,   2.063,   7.302,  -7.817],\n",
              "       [ 11.841, -14.315,  23.148,  11.777],\n",
              "       [ -3.345, -15.219,  -4.751,  -1.141]])"
            ]
          },
          "metadata": {},
          "execution_count": 5
        }
      ],
      "source": [
        "X_data"
      ]
    },
    {
      "cell_type": "code",
      "source": [
        "class LinearRegression():\n",
        "\n",
        "    def __init__(self, alpha=0, n_iter=1000, lr=1e-3):\n",
        "        self.n_iter = n_iter\n",
        "        self.lr = lr\n",
        "        self.alpha = alpha\n",
        "        self.weights = None\n",
        "    \n",
        "    def fit(self, X_train, y_train):\n",
        "        X_conc = np.concatenate([X_train, np.ones((X_train.shape[0], 1))], axis=1)\n",
        "        self.weights = np.random.randn(X_conc.shape[1]) * 0.01\n",
        "\n",
        "        for i in range(self.n_iter):\n",
        "            y_pred = X_conc.dot(self.weights)\n",
        "            \n",
        "            gradient = 2 * X_conc.T.dot(y_pred - y_train) / X_conc.shape[0] + 2 * self.alpha * self.weights\n",
        "\n",
        "            self.weights -= self.lr * gradient\n",
        "        \n",
        "\n",
        "    def predict(self, X):\n",
        "        X_conc = np.concatenate([X, np.ones((X.shape[0], 1))], axis=1)\n",
        "        return X_conc.dot(self.weights)\n",
        "\n",
        "    def error(self, X, y):\n",
        "        preds = self.predict(X)\n",
        "        return np.mean((preds - y)**2) / X.shape[0]\n",
        "\n",
        "    def plot_alpha_error(self, X, y):\n",
        "        alphas = np.linspace(0, 200, num=201)\n",
        "\n",
        "        errors = []\n",
        "\n",
        "        for alpha in alphas:\n",
        "            self.alpha = alpha\n",
        "            \n",
        "            self.fit(X, y)\n",
        "            \n",
        "            errors.append(self.error(X, y))\n",
        "\n",
        "        plt.plot(alphas, errors, label='Reg parameter alpha VS MSE')\n",
        "        plt.xlabel('Regularization parameter alpha')\n",
        "        plt.ylabel('Mean squared error')\n",
        "        plt.legend()\n",
        "        plt.show()"
      ],
      "metadata": {
        "id": "7sEFHch3g2aM"
      },
      "execution_count": 8,
      "outputs": []
    },
    {
      "cell_type": "code",
      "source": [
        "model = LinearRegression()\n",
        "model.plot_alpha_error(X_data, Y_data)"
      ],
      "metadata": {
        "colab": {
          "base_uri": "https://localhost:8080/",
          "height": 279
        },
        "id": "Ecm8YrkQGGsn",
        "outputId": "6e2f226e-88f2-4169-d636-03b0df56cbc5"
      },
      "execution_count": 9,
      "outputs": [
        {
          "output_type": "display_data",
          "data": {
            "text/plain": [
              "<Figure size 432x288 with 1 Axes>"
            ],
            "image/png": "[encoded data removed]"
          },
          "metadata": {
            "needs_background": "light"
          }
        }
      ]
    },
    {
      "cell_type": "code",
      "source": [
        "def k_fold_cross_val(model, X, y, k=5):\n",
        "    num_folds = k\n",
        "\n",
        "    data = np.concatenate([X, y.reshape(-1, 1)], axis=1)\n",
        "\n",
        "    permuted_data = np.random.permutation(data)\n",
        "\n",
        "    X = permuted_data[:, :-1]\n",
        "    y = permuted_data[:, -1]\n",
        "\n",
        "    fold_size = X.shape[0] // num_folds\n",
        "    X_folds = np.split(X, num_folds)\n",
        "    y_folds = np.split(y, num_folds)\n",
        "\n",
        "    errors = []\n",
        "\n",
        "    for i in range(num_folds):\n",
        "        X_train = np.concatenate(X_folds[:i] + X_folds[i+1:])\n",
        "        y_train = np.concatenate(y_folds[:i] + y_folds[i+1:])\n",
        "        X_test = X_folds[i]\n",
        "        y_test = y_folds[i]\n",
        "\n",
        "        model.fit(X_train, y_train)\n",
        "                \n",
        "        single_error = model.error(X_test, y_test)\n",
        "\n",
        "        errors.append(single_error)\n",
        "\n",
        "    mean_error = np.mean(errors)\n",
        "    std_error = np.std(errors)\n",
        "    return mean_error, std_error"
      ],
      "metadata": {
        "id": "kBQKmd_xrQ7l"
      },
      "execution_count": 10,
      "outputs": []
    },
    {
      "cell_type": "code",
      "source": [
        "def find_optimal_alpha(X, y):\n",
        "    alphas = np.linspace(0, 200, num=201)\n",
        "\n",
        "    mean_errors = []\n",
        "    std_errors = []\n",
        "\n",
        "    for alpha in alphas:\n",
        "        model = LinearRegression(alpha=alpha)\n",
        "        \n",
        "        mean_error, std_error = k_fold_cross_val(model, X, y)\n",
        "        mean_errors.append(mean_error)\n",
        "        std_errors.append(std_error)\n",
        "\n",
        "    opt_index = np.argmin(mean_errors)\n",
        "    opt_alpha = alphas[opt_index]\n",
        "    opt_mean_error = mean_errors[opt_index]\n",
        "    opt_std_error = std_errors[opt_index]\n",
        "    \n",
        "    return opt_alpha, opt_mean_error, opt_std_error"
      ],
      "metadata": {
        "id": "3Zn_4GqKspL_"
      },
      "execution_count": 11,
      "outputs": []
    },
    {
      "cell_type": "code",
      "source": [
        "optimal_alpha, mean_error, std_error = find_optimal_alpha(X_data, Y_data)\n",
        "print(\"Optimal alpha: {optimal_alpha:.4f}\".format(optimal_alpha=optimal_alpha))\n",
        "print(\"Mean squared error: {mean_error:.4f} STD error: {std_error:.4f}\".format(mean_error=mean_error, std_error=std_error))"
      ],
      "metadata": {
        "colab": {
          "base_uri": "https://localhost:8080/"
        },
        "id": "ECdslFW4KgxT",
        "outputId": "9d9ef298-b708-401c-997b-1eb5a1fa69fc"
      },
      "execution_count": 12,
      "outputs": [
        {
          "output_type": "stream",
          "name": "stdout",
          "text": [
            "Optimal alpha: 0.0000\n",
            "Mean squared error: 0.4841 STD error: 0.0363\n"
          ]
        }
      ]
    },
    {
      "cell_type": "code",
      "source": [
        "class LinearRegressionWithCurves():\n",
        "\n",
        "    def __init__(self, alpha=0, n_iter=1000, lr=1e-3):\n",
        "        self.n_iter = n_iter\n",
        "        self.lr = lr\n",
        "        self.alpha = alpha\n",
        "        self.weights = None\n",
        "    \n",
        "    def fit(self, X_train, y_train, X_test, y_test):\n",
        "        X_conc = np.concatenate([X_train, np.ones((X_train.shape[0], 1))], axis=1)\n",
        "        self.weights = np.random.randn(X_conc.shape[1]) * 0.01\n",
        "\n",
        "        train_errors = []\n",
        "        val_errors = []\n",
        "\n",
        "        for i in range(self.n_iter):\n",
        "            y_pred = X_conc.dot(self.weights)\n",
        "            \n",
        "            gradient = 2 * X_conc.T.dot(y_pred - y_train) / X_conc.shape[0] + 2 * self.alpha * self.weights\n",
        "\n",
        "            self.weights -= self.lr * gradient\n",
        "        \n",
        "            train_errors.append(self.error(X_train, y_train))\n",
        "            val_errors.append(self.error(X_test, y_test))\n",
        "        \n",
        "        return train_errors, val_errors\n",
        "\n",
        "    def predict(self, X):\n",
        "        X_conc = np.concatenate([X, np.ones((X.shape[0], 1))], axis=1)\n",
        "        return X_conc.dot(self.weights)\n",
        "\n",
        "    def error(self, X, y):\n",
        "        preds = self.predict(X)\n",
        "        return np.mean((preds - y)**2) / X.shape[0]"
      ],
      "metadata": {
        "id": "tdKstxglHQBg"
      },
      "execution_count": 25,
      "outputs": []
    },
    {
      "cell_type": "code",
      "source": [
        "def k_fold_cross_val_with_plotting(model, X, y, k=5):\n",
        "    num_folds = k\n",
        "\n",
        "    data = np.concatenate([X, y.reshape(-1, 1)], axis=1)\n",
        "\n",
        "    permuted_data = np.random.permutation(data)\n",
        "\n",
        "    X = permuted_data[:, :-1]\n",
        "    y = permuted_data[:, -1]\n",
        "\n",
        "    fold_size = X.shape[0] // num_folds\n",
        "    X_folds = np.split(X, num_folds)\n",
        "    y_folds = np.split(y, num_folds)\n",
        "\n",
        "    all_train_errors = []\n",
        "    all_val_errors = []\n",
        "\n",
        "    for i in range(num_folds):\n",
        "        X_train = np.concatenate(X_folds[:i] + X_folds[i+1:])\n",
        "        y_train = np.concatenate(y_folds[:i] + y_folds[i+1:])\n",
        "        X_test = X_folds[i]\n",
        "        y_test = y_folds[i]\n",
        "\n",
        "        train_errors, val_errors = model.fit(X_train, y_train, X_test, y_test)\n",
        "\n",
        "        all_train_errors.append(train_errors)\n",
        "        all_val_errors.append(val_errors)\n",
        "    \n",
        "    all_train_errors = np.array(all_train_errors).mean(axis=0)\n",
        "    all_val_errors = np.array(all_val_errors).mean(axis=0)\n",
        "\n",
        "    plt.plot(np.arange(model.n_iter), all_train_errors, \"r-+\", linewidth=2, label=\"train\")\n",
        "    plt.plot(np.arange(model.n_iter), all_val_errors, \"b-\", linewidth=3, label=\"val\")\n",
        "    plt.xlabel('Steps')\n",
        "    plt.ylabel('Mean squared error')\n",
        "    plt.legend()\n",
        "    plt.show()"
      ],
      "metadata": {
        "id": "qal9e_EUIbqa"
      },
      "execution_count": 32,
      "outputs": []
    },
    {
      "cell_type": "code",
      "source": [
        "model = LinearRegressionWithCurves(alpha = 1, n_iter=100)\n",
        "k_fold_cross_val_with_plotting(model, X_data, Y_data)"
      ],
      "metadata": {
        "colab": {
          "base_uri": "https://localhost:8080/",
          "height": 279
        },
        "id": "Gwm--ENVK5Yy",
        "outputId": "3ea1c076-a057-4110-c598-e64fabb65d8a"
      },
      "execution_count": 33,
      "outputs": [
        {
          "output_type": "display_data",
          "data": {
            "text/plain": [
              "<Figure size 432x288 with 1 Axes>"
            ],
            "image/png": "[encoded data removed]"
          },
          "metadata": {
            "needs_background": "light"
          }
        }
      ]
    }
  ],
  "metadata": {
    "kernelspec": {
      "display_name": "Python 3.10.6 64-bit",
      "language": "python",
      "name": "python3"
    },
    "language_info": {
      "codemirror_mode": {
        "name": "ipython",
        "version": 3
      },
      "file_extension": ".py",
      "mimetype": "text/x-python",
      "name": "python",
      "nbconvert_exporter": "python",
      "pygments_lexer": "ipython3",
      "version": "3.10.6"
    },
    "vscode": {
      "interpreter": {
        "hash": "916dbcbb3f70747c44a77c7bcd40155683ae19c65e1c03b4aa3499c5328201f1"
      }
    },
    "colab": {
      "provenance": []
    }
  },
  "nbformat": 4,
  "nbformat_minor": 0
}