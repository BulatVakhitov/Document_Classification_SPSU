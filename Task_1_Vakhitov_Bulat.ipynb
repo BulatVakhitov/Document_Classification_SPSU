{
  "cells": [
    {
      "cell_type": "markdown",
      "metadata": {
        "id": "_dy56ALfAhKq"
      },
      "source": [
        "# Задание 1.1\n",
        "\n",
        "[Свертка списка](https://ru.wikipedia.org/wiki/%D0%A1%D0%B2%D1%91%D1%80%D1%82%D0%BA%D0%B0_%D1%81%D0%BF%D0%B8%D1%81%D0%BA%D0%B0) -  это обобщенная операция над списком, c помощью которой можно преобразовать список в единое значение. Например, рассмотрим реализации свертки слева и свертки справа (левоассоциативную свертку и правоассоциативную свертку):"
      ]
    },
    {
      "cell_type": "code",
      "execution_count": null,
      "metadata": {
        "collapsed": true,
        "jupyter": {
          "outputs_hidden": true
        },
        "id": "JJWsl-h3AhKs"
      },
      "outputs": [],
      "source": [
        "def foldl(f, x0, lst):\n",
        "    if not lst:\n",
        "        return x0\n",
        "    return foldl(f, f(x0, lst[0]), lst[1:])\n",
        "\n",
        "def foldr(f, x0, lst):\n",
        "    if not lst:\n",
        "        return x0\n",
        "    return f(lst[0], foldr(f, x0, lst[1:]))"
      ]
    },
    {
      "cell_type": "code",
      "execution_count": null,
      "metadata": {
        "colab": {
          "base_uri": "https://localhost:8080/"
        },
        "id": "e7pZygcmAhKt",
        "outputId": "4a81e36a-a365-42fc-9974-b18c4fae0936"
      },
      "outputs": [
        {
          "output_type": "execute_result",
          "data": {
            "text/plain": [
              "6"
            ]
          },
          "metadata": {},
          "execution_count": 2
        }
      ],
      "source": [
        "#сумма\n",
        "foldl(lambda x, y: x + y, 0, [1, 2, 3])"
      ]
    },
    {
      "cell_type": "code",
      "execution_count": null,
      "metadata": {
        "colab": {
          "base_uri": "https://localhost:8080/",
          "height": 35
        },
        "id": "_YJk0rJwAhKu",
        "outputId": "3141bb6b-3316-4ff8-f1bd-26fbc48dc748"
      },
      "outputs": [
        {
          "output_type": "execute_result",
          "data": {
            "text/plain": [
              "'123'"
            ],
            "application/vnd.google.colaboratory.intrinsic+json": {
              "type": "string"
            }
          },
          "metadata": {},
          "execution_count": 3
        }
      ],
      "source": [
        "#конкатенация\n",
        "foldl(lambda x, y: '{}{}'.format(x, y), '', [1, 2, 3])"
      ]
    },
    {
      "cell_type": "code",
      "execution_count": null,
      "metadata": {
        "colab": {
          "base_uri": "https://localhost:8080/"
        },
        "id": "FghF9flgAhKv",
        "outputId": "1b80c76b-a129-4564-bf2f-27609cf35834"
      },
      "outputs": [
        {
          "output_type": "execute_result",
          "data": {
            "text/plain": [
              "(0.041666666666666664, 0.375)"
            ]
          },
          "metadata": {},
          "execution_count": 7
        }
      ],
      "source": [
        "f = lambda x, y: x / y\n",
        "foldl(f, 1, [1, 2, 3, 4]), \\\n",
        "foldr(f, 1, [1, 2, 3, 4])"
      ]
    },
    {
      "cell_type": "markdown",
      "metadata": {
        "id": "8OtO41JeAhKv"
      },
      "source": [
        "Задача: реализовать foldl через foldr и наоборот. Вместо многоточий нужно вставить выражения, которые бы привели к нужному результату. Модифицировать сам список нельзя. "
      ]
    },
    {
      "cell_type": "code",
      "execution_count": null,
      "metadata": {
        "collapsed": true,
        "jupyter": {
          "outputs_hidden": true
        },
        "id": "CLg1t-lFAhKv"
      },
      "outputs": [],
      "source": [
        "def foldl2(f, x0, lst):\n",
        "    return foldr(..., ..., lst)(...)"
      ]
    },
    {
      "cell_type": "code",
      "execution_count": null,
      "metadata": {
        "collapsed": true,
        "jupyter": {
          "outputs_hidden": true
        },
        "id": "R9h7tN1wAhKw"
      },
      "outputs": [],
      "source": [
        "def foldr2(f, x0, lst):\n",
        "    return foldl(..., ..., lst)(...)"
      ]
    },
    {
      "cell_type": "markdown",
      "metadata": {
        "id": "GTisvOyjAhKw"
      },
      "source": [
        "# Задание 1.2\n",
        "\n",
        "нужно написать функцию, которая принимает две строки и проверяет, входит ли хотя бы одна перестановка второй строки в первую. Например:\n",
        "\n",
        "> a = 'abcrotm'\n",
        "> \n",
        "> b = 'tro'\n",
        "\n",
        "функция def check_inv(a, b) вернет True, так как 'rot' содержится в 'abcrotm'. Нужно подумать как можно более оптимальный алгоритм и оценить его сложность. "
      ]
    },
    {
      "cell_type": "code",
      "execution_count": 28,
      "metadata": {
        "collapsed": true,
        "jupyter": {
          "outputs_hidden": true
        },
        "id": "DyCVST4EAhKw"
      },
      "outputs": [],
      "source": [
        "def check_inv(a, b):\n",
        "    alphabet = 'abcdefghijklmnopqrstuvwxyz'\n",
        "\n",
        "    m = len(b)\n",
        "    n = len(a)\n",
        "\n",
        "    d_b = {}\n",
        "    d_s = {}\n",
        "    for letter in alphabet: # O(26)\n",
        "        d_b[letter] = 0\n",
        "        d_s[letter] = 0\n",
        "\n",
        "    for letterB in b: # O(m)\n",
        "        d_b[letterB] += 1\n",
        "\n",
        "\n",
        "    for i in range(n - m + 1): # O(n - m)\n",
        "        s = a[i:m+i]\n",
        "\n",
        "        for letter in alphabet: # O(26)\n",
        "            d_s[letter] = 0\n",
        "\n",
        "        for letterS in s: # O(m)\n",
        "            d_s[letterS] += 1\n",
        "            \n",
        "        flag = True\n",
        "        for letter in alphabet: # O(1)\n",
        "            if d_b[letter] != d_s[letter]:\n",
        "                flag = False\n",
        "                break\n",
        "        \n",
        "        if flag:\n",
        "            return True\n",
        "    return False\n"
      ]
    },
    {
      "cell_type": "code",
      "source": [
        "check_inv('dcda', 'adc')"
      ],
      "metadata": {
        "colab": {
          "base_uri": "https://localhost:8080/"
        },
        "id": "tQMHQYxAdE5N",
        "outputId": "9bb1c888-229c-4b6f-9ba2-b7812370757a"
      },
      "execution_count": 29,
      "outputs": [
        {
          "output_type": "execute_result",
          "data": {
            "text/plain": [
              "True"
            ]
          },
          "metadata": {},
          "execution_count": 29
        }
      ]
    },
    {
      "cell_type": "markdown",
      "source": [
        "Общая сложность алгоритма O(m + (n-m)*m).\n"
      ],
      "metadata": {
        "id": "wAKF7EVmdqch"
      }
    },
    {
      "cell_type": "markdown",
      "metadata": {
        "id": "ULqdw3-YAhKw"
      },
      "source": [
        "# Задание 1.3\n",
        "\n",
        "Реализовать бинарное дерево (класс Tree), в нём методы __repr__, __str__, __iter__ (итерация только по листьям)."
      ]
    },
    {
      "cell_type": "code",
      "execution_count": 27,
      "metadata": {
        "id": "js1xbXp6AhKx",
        "colab": {
          "base_uri": "https://localhost:8080/"
        },
        "outputId": "c1bc9ffd-2335-47c2-a8f6-d1dc083498a6"
      },
      "outputs": [
        {
          "output_type": "execute_result",
          "data": {
            "text/plain": [
              "True"
            ]
          },
          "metadata": {},
          "execution_count": 27
        }
      ],
      "source": [
        "class Tree:\n",
        "    def __init__(self, value=None, left=None, right=None):\n",
        "        self.left = left\n",
        "        self.right = right\n",
        "        self.value = value\n",
        "        \n",
        "    def __iter__(self):\n",
        "        return iter(self.iterate())\n",
        "\n",
        "    def iterate(self):\n",
        "        leaves = []\n",
        "\n",
        "        if self.left:\n",
        "            left_result = self.left.iterate()\n",
        "            if isinstance(left_result, list):\n",
        "                leaves.extend(left_result)\n",
        "            else:\n",
        "                leaves.append(left_result)\n",
        "\n",
        "        if self.right:\n",
        "            right_result = self.right.iterate()\n",
        "            if isinstance(right_result, list):\n",
        "                leaves.extend(right_result)\n",
        "            else:\n",
        "                leaves.append(right_result)\n",
        "\n",
        "        if self.left is None and self.right is None:\n",
        "            return [self.value]\n",
        "\n",
        "        return leaves\n",
        "    \n",
        "    def __nodes__(self):\n",
        "        nodes = []\n",
        "\n",
        "        if self.left:\n",
        "            left_result = self.left.__nodes__()\n",
        "            if isinstance(left_result, list):\n",
        "                nodes.extend(left_result)\n",
        "            else:\n",
        "                nodes.append(left_result)\n",
        "        \n",
        "        if self.right:\n",
        "            right_result = self.right.iterate()\n",
        "            if isinstance(right_result, list):\n",
        "                nodes.extend(right_result)\n",
        "            else:\n",
        "                nodes.append(right_result)\n",
        "\n",
        "        if self.left is None and self.right is None:\n",
        "            return [self.value]\n",
        "\n",
        "        nodes.append(self.value)\n",
        "        return nodes\n",
        "\n",
        "    def __str__(self):\n",
        "        nodes = str(self.__nodes__())\n",
        "        return 'Tree with nodes: ' + nodes\n",
        "    \n",
        "    def __repr__(self):\n",
        "        return f'Tree({self.value}, {self.left.__repr__()}, {self.right.__repr__()})'\n",
        "    \n",
        "tree = Tree(0, Tree(1, Tree(3), Tree(4)),                             \n",
        "               Tree(2))\n",
        "\n",
        "list(tree) == [3, 4, 2]"
      ]
    },
    {
      "cell_type": "markdown",
      "metadata": {
        "id": "K3pINIdfAhKx"
      },
      "source": [
        "# Задание 1.4\n",
        "\n",
        "Реализовать простейший калькулятор математических выражений:\n",
        "- только целые числа\n",
        "- **+**, **\\-**, **\\***, **\\**\n",
        "- скобки\n",
        "\n",
        "**Можно использовать регулярные выражения**"
      ]
    },
    {
      "cell_type": "code",
      "execution_count": null,
      "metadata": {
        "id": "m7LVnz_iAhKx"
      },
      "outputs": [],
      "source": [
        "def calc(expr):\n",
        "    pass\n",
        "\n",
        "calc('2 * (15 - 3 * 4) - 2') == 4"
      ]
    },
    {
      "cell_type": "code",
      "execution_count": null,
      "metadata": {
        "id": "v1GAXIW6AhKy"
      },
      "outputs": [],
      "source": []
    }
  ],
  "metadata": {
    "kernelspec": {
      "display_name": "Python 3.10.4 64-bit",
      "language": "python",
      "name": "python3"
    },
    "language_info": {
      "codemirror_mode": {
        "name": "ipython",
        "version": 3
      },
      "file_extension": ".py",
      "mimetype": "text/x-python",
      "name": "python",
      "nbconvert_exporter": "python",
      "pygments_lexer": "ipython3",
      "version": "3.10.4"
    },
    "vscode": {
      "interpreter": {
        "hash": "916dbcbb3f70747c44a77c7bcd40155683ae19c65e1c03b4aa3499c5328201f1"
      }
    },
    "colab": {
      "provenance": [],
      "collapsed_sections": [
        "_dy56ALfAhKq"
      ]
    }
  },
  "nbformat": 4,
  "nbformat_minor": 0
}